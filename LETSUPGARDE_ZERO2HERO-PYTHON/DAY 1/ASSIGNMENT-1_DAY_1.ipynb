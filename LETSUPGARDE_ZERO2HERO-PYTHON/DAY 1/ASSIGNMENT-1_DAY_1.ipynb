{
  "nbformat": 4,
  "nbformat_minor": 0,
  "metadata": {
    "colab": {
      "name": "AS_1.ipynb",
      "provenance": []
    },
    "kernelspec": {
      "name": "python3",
      "display_name": "Python 3"
    },
    "language_info": {
      "name": "python"
    }
  },
  "cells": [
    {
      "cell_type": "code",
      "metadata": {
        "colab": {
          "base_uri": "https://localhost:8080/"
        },
        "id": "GDqvpUP6UWRy",
        "outputId": "9e072081-a4cd-4cc3-d5b9-78dbb3c5de19"
      },
      "source": [
        "om = [int (i) for i in input(\"Enter Values : \").split()]\n",
        "om.reverse()\n",
        "print ('The revered Values are as follows: ')\n",
        "print(om)"
      ],
      "execution_count": 4,
      "outputs": [
        {
          "output_type": "stream",
          "text": [
            "Enter Values : 10 20 30 40 50 60\n",
            "The revered Values are as follows: \n",
            "[60, 50, 40, 30, 20, 10]\n"
          ],
          "name": "stdout"
        }
      ]
    }
  ]
}