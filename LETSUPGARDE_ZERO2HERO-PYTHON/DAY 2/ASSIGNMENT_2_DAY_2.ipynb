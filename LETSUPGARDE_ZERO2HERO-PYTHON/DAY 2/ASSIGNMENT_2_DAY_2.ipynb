{
  "nbformat": 4,
  "nbformat_minor": 0,
  "metadata": {
    "colab": {
      "name": "ASSIGNMENT_2-DAY_2.ipynb",
      "provenance": []
    },
    "kernelspec": {
      "name": "python3",
      "display_name": "Python 3"
    },
    "language_info": {
      "name": "python"
    }
  },
  "cells": [
    {
      "cell_type": "code",
      "metadata": {
        "colab": {
          "base_uri": "https://localhost:8080/"
        },
        "id": "uh0dvIWq_aZg",
        "outputId": "41c7abb6-01b8-4f8b-c266-5100314183cb"
      },
      "source": [
        "\n",
        "\n",
        "def remove_items(test_list, item):\n",
        "\t\n",
        "\t\n",
        "\tres = [i for i in test_list if i != item]\n",
        "\n",
        "\treturn res\n",
        "\n",
        "\n",
        "if __name__==\"__main__\":\n",
        "\t\n",
        "\ttest_list = [69, 7, 8, 9, 6, 69]\n",
        "\n",
        "\titem = 69\n",
        "\n",
        "\n",
        "\tprint (\"The original list is : \" + str(test_list))\n",
        "\n",
        "\tres = remove_items(test_list, item)\n",
        "\n",
        "\tprint (\"The list after performing the remove operation is : \" + str(res))\n"
      ],
      "execution_count": null,
      "outputs": [
        {
          "output_type": "stream",
          "text": [
            "The original list is : [69, 7, 8, 9, 6, 69]\n",
            "The list after performing the remove operation is : [7, 8, 9, 6]\n"
          ],
          "name": "stdout"
        }
      ]
    }
  ]
}